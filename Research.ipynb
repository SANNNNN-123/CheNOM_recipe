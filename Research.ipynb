{
 "cells": [
  {
   "cell_type": "code",
   "execution_count": 1,
   "metadata": {},
   "outputs": [
    {
     "name": "stdout",
     "output_type": "stream",
     "text": [
      "Hello\n"
     ]
    }
   ],
   "source": [
    "print(\"Hello\")"
   ]
  },
  {
   "cell_type": "code",
   "execution_count": null,
   "metadata": {},
   "outputs": [],
   "source": [
    "from playwright.sync_api import sync_playwright, TimeoutError\n",
    "import json\n",
    "import time\n",
    "\n",
    "def scrape_recipe(url, max_retries=3):\n",
    "    with sync_playwright() as p:\n",
    "        browser = p.chromium.launch(headless=True)\n",
    "        context = browser.new_context(\n",
    "            user_agent='Mozilla/5.0 (Windows NT 10.0; Win64; x64) AppleWebKit/537.36 (KHTML, like Gecko) Chrome/91.0.4472.124 Safari/537.36'\n",
    "        )\n",
    "        page = context.new_page()\n",
    "        \n",
    "        for attempt in range(max_retries):\n",
    "            try:\n",
    "                # Navigate to the URL\n",
    "                page.goto(url, wait_until=\"networkidle\")\n",
    "                \n",
    "                # Wait for key elements to be loaded\n",
    "                page.wait_for_selector(\"h1\", timeout=10000)\n",
    "                \n",
    "                recipe = {\n",
    "                    \"title\": page.query_selector(\"h1\").inner_text().strip(),\n",
    "                    \"url\": url,\n",
    "                    \"ingredients\": [],\n",
    "                    \"instructions\": [],\n",
    "                    \"metadata\": {}\n",
    "                }\n",
    "                \n",
    "                # Get ingredients\n",
    "                if ingredients_list := page.query_selector_all(\".ingredients-list li\"):\n",
    "                    recipe[\"ingredients\"] = [item.inner_text().strip() \n",
    "                                          for item in ingredients_list]\n",
    "                \n",
    "                # Get instructions\n",
    "                if instructions_list := page.query_selector_all(\".instructions-list li\"):\n",
    "                    recipe[\"instructions\"] = [step.inner_text().strip() \n",
    "                                           for step in instructions_list]\n",
    "                \n",
    "                # Get metadata (cook time, servings, etc.)\n",
    "                for meta_item in page.query_selector_all(\".recipe-metadata\"):\n",
    "                    key = meta_item.get_attribute(\"data-field\")\n",
    "                    value = meta_item.inner_text().strip()\n",
    "                    if key and value:\n",
    "                        recipe[\"metadata\"][key] = value\n",
    "                \n",
    "                return recipe\n",
    "                \n",
    "            except TimeoutError:\n",
    "                if attempt < max_retries - 1:\n",
    "                    print(f\"Timeout occurred. Retrying... ({attempt + 1}/{max_retries})\")\n",
    "                    time.sleep(2)\n",
    "                    continue\n",
    "                else:\n",
    "                    print(\"Max retries reached. Could not scrape recipe.\")\n",
    "                    return None\n",
    "                    \n",
    "            except Exception as e:\n",
    "                print(f\"Error occurred: {e}\")\n",
    "                return None\n",
    "            \n",
    "            finally:\n",
    "                browser.close()\n",
    "\n",
    "def save_recipe(recipe_data, filename=\"recipe.json\"):\n",
    "    if recipe_data:\n",
    "        with open(filename, \"w\", encoding=\"utf-8\") as f:\n",
    "            json.dump(recipe_data, f, indent=4, ensure_ascii=False)\n",
    "        print(f\"Recipe successfully saved to {filename}!\")\n",
    "    else:\n",
    "        print(\"No recipe data to save.\")\n",
    "\n",
    "# Example usage\n",
    "if __name__ == \"__main__\":\n",
    "    url = \"YOUR_RECIPE_URL_HERE\"\n",
    "    recipe_data = scrape_recipe(url)\n",
    "    save_recipe(recipe_data)"
   ]
  }
 ],
 "metadata": {
  "kernelspec": {
   "display_name": "myenv",
   "language": "python",
   "name": "python3"
  },
  "language_info": {
   "codemirror_mode": {
    "name": "ipython",
    "version": 3
   },
   "file_extension": ".py",
   "mimetype": "text/x-python",
   "name": "python",
   "nbconvert_exporter": "python",
   "pygments_lexer": "ipython3",
   "version": "3.12.4"
  }
 },
 "nbformat": 4,
 "nbformat_minor": 2
}
